{
 "cells": [
  {
   "cell_type": "code",
   "execution_count": 1,
   "id": "4cb0d81a-c077-4a22-9960-9698224f6105",
   "metadata": {
    "tags": []
   },
   "outputs": [],
   "source": [
    "import pandas as pd\n",
    "import xarray as xr\n",
    "from argopy import DataFetcher as ArgoDataFetcher\n",
    "import datetime as dt\n",
    "from datetime import date\n",
    "import matplotlib.pyplot as plt\n",
    "\n",
    "import numpy as np\n",
    "from math import sqrt\n",
    "from scipy.linalg import cholesky, cho_solve\n",
    "from scipy.spatial.distance import pdist, cdist, squareform\n",
    "from scipy.special import gamma, kv\n",
    "import vincenty\n",
    "\n",
    "from sklearn.model_selection import train_test_split"
   ]
  },
  {
   "cell_type": "code",
   "execution_count": 2,
   "id": "a93ff69c-a994-42d6-bb58-141c095f1fce",
   "metadata": {
    "tags": []
   },
   "outputs": [],
   "source": [
    "#Helper functions\n",
    "\n",
    "def depth_zone(d: float) -> str:\n",
    "    \"\"\"\n",
    "    Classify the input as one of \"Epipelagic\", \"Mesopelagic\", \"Bathypelagic\"\n",
    "    \n",
    "    Input:\n",
    "        d: float\n",
    "            depth of sea, between 0 and 2000\n",
    "    Return:\n",
    "        zone: str\n",
    "            one of \"Epipelagic\", \"Mesopelagic\", and \"Bathypelagic\"\n",
    "    \"\"\"\n",
    "    if 0<= d <= 200:\n",
    "        return \"Epipelagic\"\n",
    "    elif 200 < d <= 1000:\n",
    "        return \"Mesopelagic\"\n",
    "    else:\n",
    "        return \"Bathypelagic\"\n",
    "    \n",
    "Y = 2000 # dummy leap year to allow input X-02-29 (leap day)\n",
    "seasons = [('Winter', (date(Y,  1,  1),  date(Y,  3, 20))),\n",
    "           ('Spring', (date(Y,  3, 21),  date(Y,  6, 20))),\n",
    "           ('Summer', (date(Y,  6, 21),  date(Y,  9, 22))),\n",
    "           ('Fall', (date(Y,  9, 23),  date(Y, 12, 20))),\n",
    "           ('Winter', (date(Y, 12, 21),  date(Y, 12, 31)))]\n",
    "\n",
    "def get_season(dat: dt.datetime) -> str:\n",
    "    \"\"\"\n",
    "    Returns the season of a particular date\n",
    "    \n",
    "    Input:\n",
    "        date: datetime\n",
    "            a date\n",
    "    Return:\n",
    "        season: str\n",
    "    \"\"\"\n",
    "    if isinstance(dat, dt.datetime):\n",
    "        dat = dat.date()\n",
    "    dat = dat.replace(year=Y)\n",
    "    return next(season for season, (start, end) in seasons\n",
    "                if start <= dat <= end)"
   ]
  },
  {
   "cell_type": "code",
   "execution_count": 3,
   "id": "57f4d9c9-4600-414e-b08d-6edad8cd1048",
   "metadata": {
    "tags": []
   },
   "outputs": [],
   "source": [
    "def fetch_data(start_time: str, end_time: str, attribute: str,\n",
    "               min_lon: float = -180, max_lon: float = 180, \n",
    "               min_lat: float = -90, max_lat: float = 90, \n",
    "              min_dep: float = 0, max_dep: float = 2000, ) -> pd.DataFrame:\n",
    "    \"\"\"\n",
    "    Fetch Argo data using the API, with the specified locations, \n",
    "    time frame, depth, and attributes.\n",
    "    \n",
    "    Inputs:\n",
    "        start_time, end_time: str, required\n",
    "            the desired time frame. Should be in format 'yyyy-mm-dd'\n",
    "        attribute: str, required\n",
    "            The desired type of attributes from one of 'salinity' or 'temp'.\n",
    "        min_lon, max_lon: float\n",
    "            the desired range of longitudes between -180 and 180\n",
    "        min_lat, max_lat: float\n",
    "            the desired range of latitudes between -90 and 90\n",
    "        min_depth, max_depth: float\n",
    "            the desired depth between 0 and 2000\n",
    "    \n",
    "    Return:\n",
    "        result: pd.DataFrame\n",
    "            A data frame containing float no., season, location, depth (m), depth zone, \n",
    "            temp/salinity\n",
    "    \"\"\"\n",
    "    \n",
    "    #Check input\n",
    "    assert -180 <= min_lon <= max_lon <= 180, \"Please enter valid min_lon or max_lon\" \n",
    "    assert -90 <= min_lat <= max_lat <= 90, \"Please enter valid min_lat or max_lat\" \n",
    "    assert 0 <= min_dep <= max_dep <= 2000, \"Please enter valid min_dep or max_dep\" \n",
    "    \n",
    "    try:\n",
    "        dt.datetime.strptime(start_time, \"%Y-%m-%d\")\n",
    "        dt.datetime.strptime(end_time, \"%Y-%m-%d\")\n",
    "    except:\n",
    "        raise Exception(\"Please enter a valid start_time or end_time.\")\n",
    "        \n",
    "    assert attribute in [\"salinity\", \"temp\"]\n",
    "    \n",
    "    #Fetch data from Argo API and store in xarr as an xarray\n",
    "    reg = [min_lon, max_lon, min_lat, max_lat, min_dep, max_dep, start_time, end_time]\n",
    "    # print(\"Downloading data from Argo...\")\n",
    "    xarr = ArgoDataFetcher().region(reg).to_xarray()\n",
    "    df = xarr.to_dataframe()[[\"PRES\", \"PSAL\", \"TEMP\", \"LATITUDE\", \"LONGITUDE\", \"TIME\"]]\n",
    "    \n",
    "    #TODO: Check there are enough points. How many points should we aim for?\n",
    "    \n",
    "    #Classify based on depth\n",
    "    df[\"Depth Zone\"] = df[\"PRES\"].apply(depth_zone)\n",
    "    \n",
    "    #Classify based on season\n",
    "    df[\"Season\"] = df[\"TIME\"].apply(get_season)\n",
    "    \n",
    "    #TODO: Check for coastlines\n",
    "    \n",
    "    #Get the desired attributes\n",
    "    if attribute == \"salinity\":\n",
    "        df = df[[\"TIME\", \"PRES\", \"LATITUDE\", \"LONGITUDE\", \"Depth Zone\", \"Season\", \"PSAL\"]]\n",
    "    else:\n",
    "        df = df[[\"TIME\", \"PRES\", \"LATITUDE\", \"LONGITUDE\", \"Depth Zone\", \"Season\", \"TEMP\"]]\n",
    "    \n",
    "    return df\n",
    "        "
   ]
  },
  {
   "cell_type": "code",
   "execution_count": 5,
   "id": "5da82d6f-ba33-48c0-be6f-5c85cab9062d",
   "metadata": {
    "tags": []
   },
   "outputs": [],
   "source": [
    "data = fetch_data('2012-06-01', '2012-12-01', \"temp\", -83, 29, 46, 73, 0, 2000)\n",
    "data = data.loc[(data['Season'] == 'Spring') & (data['Depth Zone'] == 'Epipelagic' )]"
   ]
  },
  {
   "cell_type": "code",
   "execution_count": 138,
   "id": "9da57a20-f6df-494d-9d0d-6b6f6f6f909e",
   "metadata": {
    "tags": []
   },
   "outputs": [],
   "source": [
    "X = data.loc[:, ['LATITUDE','LONGITUDE']]\n",
    "y = data.loc[:, ['TEMP']]\n",
    "\n",
    "X_trn = X.iloc[0:500]\n",
    "y_trn = y.iloc[0:500]"
   ]
  },
  {
   "cell_type": "code",
   "execution_count": 155,
   "id": "cd300073-3fb0-4c51-aadc-2e552a5a0097",
   "metadata": {
    "tags": []
   },
   "outputs": [
    {
     "name": "stdout",
     "output_type": "stream",
     "text": [
      "CPU times: user 1.95 s, sys: 6.1 ms, total: 1.96 s\n",
      "Wall time: 2.02 s\n"
     ]
    },
    {
     "name": "stderr",
     "output_type": "stream",
     "text": [
      "/accounts/campus/shahzar/.conda/envs/argos/lib/python3.11/site-packages/sklearn/gaussian_process/_gpr.py:629: ConvergenceWarning: lbfgs failed to converge (status=2):\n",
      "ABNORMAL_TERMINATION_IN_LNSRCH.\n",
      "\n",
      "Increase the number of iterations (max_iter) or scale the data as shown in:\n",
      "    https://scikit-learn.org/stable/modules/preprocessing.html\n",
      "  _check_optimize_result(\"lbfgs\", opt_res)\n"
     ]
    },
    {
     "data": {
      "text/html": [
       "<style>#sk-container-id-13 {color: black;background-color: white;}#sk-container-id-13 pre{padding: 0;}#sk-container-id-13 div.sk-toggleable {background-color: white;}#sk-container-id-13 label.sk-toggleable__label {cursor: pointer;display: block;width: 100%;margin-bottom: 0;padding: 0.3em;box-sizing: border-box;text-align: center;}#sk-container-id-13 label.sk-toggleable__label-arrow:before {content: \"▸\";float: left;margin-right: 0.25em;color: #696969;}#sk-container-id-13 label.sk-toggleable__label-arrow:hover:before {color: black;}#sk-container-id-13 div.sk-estimator:hover label.sk-toggleable__label-arrow:before {color: black;}#sk-container-id-13 div.sk-toggleable__content {max-height: 0;max-width: 0;overflow: hidden;text-align: left;background-color: #f0f8ff;}#sk-container-id-13 div.sk-toggleable__content pre {margin: 0.2em;color: black;border-radius: 0.25em;background-color: #f0f8ff;}#sk-container-id-13 input.sk-toggleable__control:checked~div.sk-toggleable__content {max-height: 200px;max-width: 100%;overflow: auto;}#sk-container-id-13 input.sk-toggleable__control:checked~label.sk-toggleable__label-arrow:before {content: \"▾\";}#sk-container-id-13 div.sk-estimator input.sk-toggleable__control:checked~label.sk-toggleable__label {background-color: #d4ebff;}#sk-container-id-13 div.sk-label input.sk-toggleable__control:checked~label.sk-toggleable__label {background-color: #d4ebff;}#sk-container-id-13 input.sk-hidden--visually {border: 0;clip: rect(1px 1px 1px 1px);clip: rect(1px, 1px, 1px, 1px);height: 1px;margin: -1px;overflow: hidden;padding: 0;position: absolute;width: 1px;}#sk-container-id-13 div.sk-estimator {font-family: monospace;background-color: #f0f8ff;border: 1px dotted black;border-radius: 0.25em;box-sizing: border-box;margin-bottom: 0.5em;}#sk-container-id-13 div.sk-estimator:hover {background-color: #d4ebff;}#sk-container-id-13 div.sk-parallel-item::after {content: \"\";width: 100%;border-bottom: 1px solid gray;flex-grow: 1;}#sk-container-id-13 div.sk-label:hover label.sk-toggleable__label {background-color: #d4ebff;}#sk-container-id-13 div.sk-serial::before {content: \"\";position: absolute;border-left: 1px solid gray;box-sizing: border-box;top: 0;bottom: 0;left: 50%;z-index: 0;}#sk-container-id-13 div.sk-serial {display: flex;flex-direction: column;align-items: center;background-color: white;padding-right: 0.2em;padding-left: 0.2em;position: relative;}#sk-container-id-13 div.sk-item {position: relative;z-index: 1;}#sk-container-id-13 div.sk-parallel {display: flex;align-items: stretch;justify-content: center;background-color: white;position: relative;}#sk-container-id-13 div.sk-item::before, #sk-container-id-13 div.sk-parallel-item::before {content: \"\";position: absolute;border-left: 1px solid gray;box-sizing: border-box;top: 0;bottom: 0;left: 50%;z-index: -1;}#sk-container-id-13 div.sk-parallel-item {display: flex;flex-direction: column;z-index: 1;position: relative;background-color: white;}#sk-container-id-13 div.sk-parallel-item:first-child::after {align-self: flex-end;width: 50%;}#sk-container-id-13 div.sk-parallel-item:last-child::after {align-self: flex-start;width: 50%;}#sk-container-id-13 div.sk-parallel-item:only-child::after {width: 0;}#sk-container-id-13 div.sk-dashed-wrapped {border: 1px dashed gray;margin: 0 0.4em 0.5em 0.4em;box-sizing: border-box;padding-bottom: 0.4em;background-color: white;}#sk-container-id-13 div.sk-label label {font-family: monospace;font-weight: bold;display: inline-block;line-height: 1.2em;}#sk-container-id-13 div.sk-label-container {text-align: center;}#sk-container-id-13 div.sk-container {/* jupyter's `normalize.less` sets `[hidden] { display: none; }` but bootstrap.min.css set `[hidden] { display: none !important; }` so we also need the `!important` here to be able to override the default hidden behavior on the sphinx rendered scikit-learn.org. See: https://github.com/scikit-learn/scikit-learn/issues/21755 */display: inline-block !important;position: relative;}#sk-container-id-13 div.sk-text-repr-fallback {display: none;}</style><div id=\"sk-container-id-13\" class=\"sk-top-container\"><div class=\"sk-text-repr-fallback\"><pre>GaussianProcessRegressor(kernel=1**2 * RBF(length_scale=1.5), random_state=0)</pre><b>In a Jupyter environment, please rerun this cell to show the HTML representation or trust the notebook. <br />On GitHub, the HTML representation is unable to render, please try loading this page with nbviewer.org.</b></div><div class=\"sk-container\" hidden><div class=\"sk-item\"><div class=\"sk-estimator sk-toggleable\"><input class=\"sk-toggleable__control sk-hidden--visually\" id=\"sk-estimator-id-13\" type=\"checkbox\" checked><label for=\"sk-estimator-id-13\" class=\"sk-toggleable__label sk-toggleable__label-arrow\">GaussianProcessRegressor</label><div class=\"sk-toggleable__content\"><pre>GaussianProcessRegressor(kernel=1**2 * RBF(length_scale=1.5), random_state=0)</pre></div></div></div></div></div>"
      ],
      "text/plain": [
       "GaussianProcessRegressor(kernel=1**2 * RBF(length_scale=1.5), random_state=0)"
      ]
     },
     "execution_count": 155,
     "metadata": {},
     "output_type": "execute_result"
    }
   ],
   "source": [
    "%%time\n",
    "from sklearn.gaussian_process import GaussianProcessRegressor\n",
    "from sklearn.gaussian_process.kernels import RBF\n",
    "\n",
    "kernel = 1.0 * RBF(length_scale=1.5)\n",
    "gpr = GaussianProcessRegressor(kernel=kernel, random_state=0)\n",
    "gpr.fit(X_trn, y_trn)"
   ]
  },
  {
   "cell_type": "code",
   "execution_count": 156,
   "id": "72fd2558-d679-4ffb-b7b1-0424e190dadf",
   "metadata": {
    "tags": []
   },
   "outputs": [
    {
     "data": {
      "text/plain": [
       "(46.027, 72.3949184)"
      ]
     },
     "execution_count": 156,
     "metadata": {},
     "output_type": "execute_result"
    }
   ],
   "source": [
    "min(X['LATITUDE']), max(X['LATITUDE'])"
   ]
  },
  {
   "cell_type": "code",
   "execution_count": 157,
   "id": "26f73575-f778-4f19-8c9b-260e53b6ef77",
   "metadata": {
    "tags": []
   },
   "outputs": [
    {
     "data": {
      "text/plain": [
       "(-57.50699996948242, 20.633)"
      ]
     },
     "execution_count": 157,
     "metadata": {},
     "output_type": "execute_result"
    }
   ],
   "source": [
    "min(X['LONGITUDE']), max(X['LONGITUDE'])"
   ]
  },
  {
   "cell_type": "code",
   "execution_count": 158,
   "id": "0cbc7f77-44a4-4144-94a6-4decb6b19fe5",
   "metadata": {
    "tags": []
   },
   "outputs": [],
   "source": [
    "lat_span = np.linspace(46, 73, 401)\n",
    "lon_span = np.linspace(-57, 21, 401)"
   ]
  },
  {
   "cell_type": "code",
   "execution_count": 159,
   "id": "8933dc3f-c495-4e24-a11e-12980ec5b55f",
   "metadata": {
    "tags": []
   },
   "outputs": [],
   "source": [
    "lat, lon = np.meshgrid(lat_span, lon_span)\n",
    "pts = np.vstack([lat.ravel(), lon.ravel()]).T"
   ]
  },
  {
   "cell_type": "code",
   "execution_count": 160,
   "id": "a2ced867-913b-4c4f-a933-0665f9e78796",
   "metadata": {
    "tags": []
   },
   "outputs": [
    {
     "name": "stderr",
     "output_type": "stream",
     "text": [
      "/accounts/campus/shahzar/.conda/envs/argos/lib/python3.11/site-packages/sklearn/base.py:439: UserWarning: X does not have valid feature names, but GaussianProcessRegressor was fitted with feature names\n",
      "  warnings.warn(\n"
     ]
    }
   ],
   "source": [
    "y_pred = gpr.predict(pts)"
   ]
  },
  {
   "cell_type": "code",
   "execution_count": 161,
   "id": "1d13c410-36bf-4f3d-afb6-35b0686c2926",
   "metadata": {
    "tags": []
   },
   "outputs": [
    {
     "data": {
      "text/plain": [
       "<matplotlib.colorbar.Colorbar at 0x7f3daee9b910>"
      ]
     },
     "execution_count": 161,
     "metadata": {},
     "output_type": "execute_result"
    },
    {
     "data": {
      "image/png": "[encoded data removed]",
      "text/plain": [
       "<Figure size 640x480 with 2 Axes>"
      ]
     },
     "metadata": {},
     "output_type": "display_data"
    }
   ],
   "source": [
    "plt.contourf(lon, lat, y_pred.reshape(401, 401).T, cmap = 'bwr')\n",
    "plt.colorbar()"
   ]
  }
 ],
 "metadata": {
  "kernelspec": {
   "display_name": "argos",
   "language": "python",
   "name": "argos"
  },
  "language_info": {
   "codemirror_mode": {
    "name": "ipython",
    "version": 3
   },
   "file_extension": ".py",
   "mimetype": "text/x-python",
   "name": "python",
   "nbconvert_exporter": "python",
   "pygments_lexer": "ipython3",
   "version": "3.11.0"
  }
 },
 "nbformat": 4,
 "nbformat_minor": 5
}
