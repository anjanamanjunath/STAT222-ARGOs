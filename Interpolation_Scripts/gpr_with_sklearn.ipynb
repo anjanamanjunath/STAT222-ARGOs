{
 "cells": [
  {
   "cell_type": "code",
   "execution_count": 1,
   "id": "4cb0d81a-c077-4a22-9960-9698224f6105",
   "metadata": {
    "tags": []
   },
   "outputs": [],
   "source": [
    "import pandas as pd\n",
    "import xarray as xr\n",
    "from argopy import DataFetcher as ArgoDataFetcher\n",
    "import datetime as dt\n",
    "from datetime import date\n",
    "import matplotlib.pyplot as plt\n",
    "from global_land_mask import globe\n",
    "\n",
    "import numpy as np\n",
    "from geokernels.kernels import RBF_geo, Matern_geo, RationalQuadratic_geo, WhiteKernel\n",
    "from sklearn.model_selection import train_test_split"
   ]
  },
  {
   "cell_type": "code",
   "execution_count": 2,
   "id": "a93ff69c-a994-42d6-bb58-141c095f1fce",
   "metadata": {
    "tags": []
   },
   "outputs": [],
   "source": [
    "#Helper functions\n",
    "\n",
    "def depth_zone(d: float) -> str:\n",
    "    \"\"\"\n",
    "    Classify the input as one of \"Epipelagic\", \"Mesopelagic\", \"Bathypelagic\"\n",
    "    \n",
    "    Input:\n",
    "        d: float\n",
    "            depth of sea, between 0 and 2000\n",
    "    Return:\n",
    "        zone: str\n",
    "            one of \"Epipelagic\", \"Mesopelagic\", and \"Bathypelagic\"\n",
    "    \"\"\"\n",
    "    if 0 <= d <= 200:\n",
    "        return \"Epipelagic\"\n",
    "    elif 200 < d <= 1000:\n",
    "        return \"Mesopelagic\"\n",
    "    else:\n",
    "        return \"Bathypelagic\"\n",
    "    \n",
    "Y = 2000 # dummy leap year to allow input X-02-29 (leap day)\n",
    "seasons = [('Winter', (date(Y,  1,  1),  date(Y,  3, 20))),\n",
    "           ('Spring', (date(Y,  3, 21),  date(Y,  6, 20))),\n",
    "           ('Summer', (date(Y,  6, 21),  date(Y,  9, 22))),\n",
    "           ('Fall', (date(Y,  9, 23),  date(Y, 12, 20))),\n",
    "           ('Winter', (date(Y, 12, 21),  date(Y, 12, 31)))]\n",
    "\n",
    "def get_season(dat: dt.datetime) -> str:\n",
    "    \"\"\"\n",
    "    Returns the season of a particular date\n",
    "    \n",
    "    Input:\n",
    "        date: datetime\n",
    "            a date\n",
    "    Return:\n",
    "        season: str\n",
    "    \"\"\"\n",
    "    if isinstance(dat, dt.datetime):\n",
    "        dat = dat.date()\n",
    "    dat = dat.replace(year=Y)\n",
    "    return next(season for season, (start, end) in seasons\n",
    "                if start <= dat <= end)"
   ]
  },
  {
   "cell_type": "code",
   "execution_count": 3,
   "id": "57f4d9c9-4600-414e-b08d-6edad8cd1048",
   "metadata": {
    "tags": []
   },
   "outputs": [],
   "source": [
    "def fetch_data(start_time: str, end_time: str, attribute: str,\n",
    "               min_lon: float = -180, max_lon: float = 180, \n",
    "               min_lat: float = -90, max_lat: float = 90, \n",
    "               min_dep: float = 0, max_dep: float = 2000, ) -> pd.DataFrame:\n",
    "    \"\"\"\n",
    "    Fetch Argo data using the API, with the specified locations, \n",
    "    time frame, depth, and attributes.\n",
    "    \n",
    "    Inputs:\n",
    "        start_time, end_time: str, required\n",
    "            the desired time frame. Should be in format 'yyyy-mm-dd'\n",
    "        attribute: str, required\n",
    "            The desired type of attributes from one of 'salinity' or 'temp'.\n",
    "        min_lon, max_lon: float\n",
    "            the desired range of longitudes between -180 and 180\n",
    "        min_lat, max_lat: float\n",
    "            the desired range of latitudes between -90 and 90\n",
    "        min_depth, max_depth: float\n",
    "            the desired depth between 0 and 2000\n",
    "    \n",
    "    Return:\n",
    "        result: pd.DataFrame\n",
    "            A data frame containing float no., season, location, depth (m), depth zone, \n",
    "            temp/salinity\n",
    "    \"\"\"\n",
    "    \n",
    "    #Check input\n",
    "    assert -180 <= min_lon <= max_lon <= 180, \"Please enter valid min_lon or max_lon\" \n",
    "    assert -90 <= min_lat <= max_lat <= 90, \"Please enter valid min_lat or max_lat\" \n",
    "    assert 0 <= min_dep <= max_dep <= 2000, \"Please enter valid min_dep or max_dep\" \n",
    "    \n",
    "    try:\n",
    "        dt.datetime.strptime(start_time, \"%Y-%m-%d\")\n",
    "        dt.datetime.strptime(end_time, \"%Y-%m-%d\")\n",
    "    except:\n",
    "        raise Exception(\"Please enter a valid start_time or end_time.\")\n",
    "        \n",
    "    assert attribute in [\"salinity\", \"temp\"]\n",
    "    \n",
    "    #Fetch data from Argo API and store in xarr as an xarray\n",
    "    reg = [min_lon, max_lon, min_lat, max_lat, min_dep, max_dep, start_time, end_time]\n",
    "    # print(\"Downloading data from Argo...\")\n",
    "    xarr = ArgoDataFetcher().region(reg).to_xarray()\n",
    "    columns = [\"PRES\", \"PSAL\", \"TEMP\", \"LATITUDE\", \"LONGITUDE\", \"TIME\", \"DATA_MODE\", \\\n",
    "               \"POSITION_QC\", \"PRES_QC\", \"PSAL_QC\", \"TEMP_QC\"]\n",
    "    df = xarr.to_dataframe()[columns]\n",
    "    \n",
    "    #TODO: Check there are enough points. How many points should we aim for?\n",
    "    \n",
    "    #Subset QC'ed data\n",
    "    idx = (df['DATA_MODE'] == 'D') & (df['POSITION_QC'] == 1) & \\\n",
    "      (df['PRES_QC'] == 1) & (df['PSAL_QC'] == 1) & (df['TEMP_QC'] == 1)\n",
    "    df = df[idx]\n",
    "    df = df.reset_index(drop = True)\n",
    "    \n",
    "    #Classify based on depth\n",
    "    df[\"Depth Zone\"] = df[\"PRES\"].apply(depth_zone)\n",
    "    \n",
    "    #Classify based on season\n",
    "    df[\"Season\"] = df[\"TIME\"].apply(get_season)\n",
    "    \n",
    "    #Get the desired attributes\n",
    "    if attribute == \"salinity\":\n",
    "        df = df[[\"TIME\", \"PRES\", \"LATITUDE\", \"LONGITUDE\", \"Depth Zone\", \"Season\", \"PSAL\"]]\n",
    "    else:\n",
    "        df = df[[\"TIME\", \"PRES\", \"LATITUDE\", \"LONGITUDE\", \"Depth Zone\", \"Season\", \"TEMP\"]]\n",
    "    \n",
    "    return df"
   ]
  },
  {
   "cell_type": "code",
   "execution_count": 4,
   "id": "cee40f1b-5793-4f99-8dd5-987638ac5454",
   "metadata": {
    "tags": []
   },
   "outputs": [],
   "source": [
    "def clean_data(data):\n",
    "    data = data.loc[data['Depth Zone'] == 'Mesopelagic']\n",
    "    avg_data = data.groupby(['LATITUDE', 'LONGITUDE'])['TEMP'].mean().reset_index()\n",
    "    X = avg_data[['LATITUDE', 'LONGITUDE']].to_numpy()\n",
    "    y = avg_data['TEMP'].to_numpy()\n",
    "    return X, y"
   ]
  },
  {
   "cell_type": "code",
   "execution_count": 5,
   "id": "073178d7-880f-48f2-8793-85558c708717",
   "metadata": {
    "tags": []
   },
   "outputs": [],
   "source": [
    "def get_cartesian(lat=None, lon=None):\n",
    "    lat, lon = np.deg2rad(lat), np.deg2rad(lon)\n",
    "    R = 6371 # radius of the earth\n",
    "    x = R * np.cos(lat) * np.cos(lon)\n",
    "    y = R * np.cos(lat) * np.sin(lon)\n",
    "    z = R *np.sin(lat)\n",
    "    return x,y,z\n",
    "\n",
    "def mercator(lonlat):\n",
    "    lon, lat = lonlat[:,0], lonlat[:, 1]\n",
    "    x = 6378137.0 * np.radians(lon)\n",
    "    y = 6378137.0 * np.log(\n",
    "        np.tan((np.pi * 0.25) + (0.5 * np.radians(lat))))\n",
    "    return np.array((x, y)).T"
   ]
  },
  {
   "cell_type": "code",
   "execution_count": 6,
   "id": "874bd7be-fab3-4bb6-87c8-d4bda2736b6c",
   "metadata": {
    "tags": []
   },
   "outputs": [],
   "source": [
    "import xarray as xr\n",
    "import matplotlib.pyplot as plt\n",
    "import matplotlib.gridspec as gridspec\n",
    "import cartopy.crs as ccrs\n",
    "import cartopy.feature as cfeature\n",
    "import numpy as np\n",
    "from scipy.interpolate import griddata\n",
    "import matplotlib.patches as mpatches\n",
    "from mpl_toolkits.mplot3d import Axes3D\n",
    "from matplotlib import cm"
   ]
  },
  {
   "cell_type": "markdown",
   "id": "2969a096-0e3e-4511-b6fc-056c07f19b51",
   "metadata": {
    "jp-MarkdownHeadingCollapsed": true,
    "tags": [],
    "user_expressions": []
   },
   "source": [
    "## Data From 2017 - 2020"
   ]
  },
  {
   "cell_type": "markdown",
   "id": "4596a5cd-db56-45e7-851f-7d996435e1ce",
   "metadata": {},
   "source": [
    "### 2018"
   ]
  },
  {
   "cell_type": "code",
   "execution_count": 316,
   "id": "7b42f7f6-b88e-4b47-ad1a-d0cc609bb7ef",
   "metadata": {
    "tags": []
   },
   "outputs": [],
   "source": [
    "data_2018_09 = fetch_data('2018-09-01', '2018-09-30', 'temp', -83, 29, 46, 73, 0, 2000)"
   ]
  },
  {
   "cell_type": "code",
   "execution_count": null,
   "id": "be5d49ed-5d0a-48da-aa8e-68eb86156fa4",
   "metadata": {},
   "outputs": [],
   "source": [
    "data_2018_10 = fetch_data('2018-10-01', '2018-10-31', 'temp', -83, 29, 46, 73, 0, 2000)"
   ]
  },
  {
   "cell_type": "code",
   "execution_count": null,
   "id": "4ae0a0c0-7e18-46b3-9cd2-20729ee29107",
   "metadata": {},
   "outputs": [],
   "source": [
    "data_2018_11 = fetch_data('2018-11-01', '2018-11-30', 'temp', -83, 29, 46, 73, 0, 2000)"
   ]
  },
  {
   "cell_type": "code",
   "execution_count": 317,
   "id": "a5536f10-d53b-47f4-9aec-f93babab28db",
   "metadata": {
    "tags": []
   },
   "outputs": [],
   "source": [
    "X_2018_09, y_2018_09 = clean_data(data_2018_09)\n",
    "X_2018_10, y_2018_10 = clean_data(data_2018_10)\n",
    "X_2018_11, y_2018_11 = clean_data(data_2018_11)\n",
    "\n",
    "X_2018 = np.vstack([X_2018_09, X_2018_10, X_2018_11])\n",
    "y_2018 = np.hstack([y_2018_09, y_2018_10, y_2018_11])\n",
    "\n",
    "np.save('X_2018.npy', X_2018)\n",
    "np.save('y_2018.npy', y_2018)"
   ]
  },
  {
   "cell_type": "markdown",
   "id": "69b22cb7-f6c8-45ed-bed9-8ead7255ec2d",
   "metadata": {},
   "source": [
    "### 2019"
   ]
  },
  {
   "cell_type": "code",
   "execution_count": 301,
   "id": "ad24cb46-5099-4ac7-8d4d-c55fb4466a42",
   "metadata": {
    "tags": []
   },
   "outputs": [],
   "source": [
    "data_2019_09 = fetch_data('2019-09-01', '2019-09-30', 'temp', -83, 29, 46, 73, 0, 2000)"
   ]
  },
  {
   "cell_type": "code",
   "execution_count": null,
   "id": "7b363607-f19c-4134-8ed1-bc7ddb91125e",
   "metadata": {},
   "outputs": [],
   "source": [
    "data_2019_10 = fetch_data('2019-10-01', '2019-10-31', 'temp', -83, 29, 46, 73, 0, 2000)"
   ]
  },
  {
   "cell_type": "code",
   "execution_count": null,
   "id": "c75228d1-7ebe-4a84-b75a-a9303aebcc7f",
   "metadata": {},
   "outputs": [],
   "source": [
    "data_2019_11 = fetch_data('2019-11-01', '2019-11-30', 'temp', -83, 29, 46, 73, 0, 2000)"
   ]
  },
  {
   "cell_type": "code",
   "execution_count": 307,
   "id": "f1c00306-2f99-4d6e-afc2-b6a4b1ce01ac",
   "metadata": {
    "tags": []
   },
   "outputs": [],
   "source": [
    "X_2019_09, y_2019_09 = clean_data(data_2019_09)\n",
    "X_2019_10, y_2019_10 = clean_data(data_2019_10)\n",
    "X_2019_11, y_2019_11 = clean_data(data_2019_11)\n",
    "\n",
    "X_2019 = np.vstack([X_2019_09, X_2019_10, X_2019_11])\n",
    "y_2019 = np.hstack([y_2019_09, y_2019_10, y_2019_11])\n",
    "\n",
    "np.save('X_2019.npy', X_2019)\n",
    "np.save('y_2019.npy', y_2019)"
   ]
  },
  {
   "cell_type": "markdown",
   "id": "87127a12-ad18-4e98-8a5d-a65a8648a995",
   "metadata": {
    "user_expressions": []
   },
   "source": [
    "### 2020"
   ]
  },
  {
   "cell_type": "code",
   "execution_count": null,
   "id": "207702e4-fbf4-4fe2-8a3b-12ab646994b1",
   "metadata": {},
   "outputs": [],
   "source": [
    "data_2020_09 = fetch_data('2020-09-01', '2020-09-30', 'temp', -83, 29, 46, 73, 0, 2000)"
   ]
  },
  {
   "cell_type": "code",
   "execution_count": 313,
   "id": "5c314e77-969f-4d69-9889-34688b62742c",
   "metadata": {
    "tags": []
   },
   "outputs": [],
   "source": [
    "data_2020_10 = fetch_data('2020-10-01', '2020-10-31', 'temp', -83, 29, 46, 73, 0, 2000)"
   ]
  },
  {
   "cell_type": "code",
   "execution_count": 314,
   "id": "91dab9b0-0d9d-4a28-88e4-769f4e33e2fe",
   "metadata": {
    "tags": []
   },
   "outputs": [],
   "source": [
    "data_2020_11 = fetch_data('2020-11-01', '2020-11-30', 'temp', -83, 29, 46, 73, 0, 2000)"
   ]
  },
  {
   "cell_type": "code",
   "execution_count": 315,
   "id": "046289a7-d52f-4b12-b5b7-46d35fd4fdef",
   "metadata": {
    "tags": []
   },
   "outputs": [],
   "source": [
    "X_2020_09, y_2020_09 = clean_data(data_2020_09)\n",
    "X_2020_10, y_2020_10 = clean_data(data_2020_10)\n",
    "X_2020_11, y_2020_11 = clean_data(data_2020_11)\n",
    "\n",
    "X_2020 = np.vstack([X_2020_09, X_2020_10, X_2020_11])\n",
    "y_2020 = np.hstack([y_2020_09, y_2020_10, y_2020_11])\n",
    "\n",
    "np.save('X_2020.npy', X_2020)\n",
    "np.save('y_2020.npy', y_2020)"
   ]
  },
  {
   "cell_type": "code",
   "execution_count": 324,
   "id": "0579257c-9ec9-41ea-8796-8d98fe6bddef",
   "metadata": {
    "tags": []
   },
   "outputs": [],
   "source": [
    "X_curr = np.vstack([X_2018, X_2019, X_2020])\n",
    "y_curr = np.hstack([y_2018, y_2019, y_2020])"
   ]
  },
  {
   "cell_type": "code",
   "execution_count": 325,
   "id": "4f38ec37-332d-41e9-8a53-33051196ed04",
   "metadata": {
    "tags": []
   },
   "outputs": [],
   "source": [
    "np.save('X_curr.npy', X_curr)\n",
    "np.save('y_curr.npy', y_curr)"
   ]
  },
  {
   "cell_type": "markdown",
   "id": "b144bfc6-2083-4ea9-9574-f67b200cfd4d",
   "metadata": {
    "jp-MarkdownHeadingCollapsed": true,
    "tags": [],
    "user_expressions": []
   },
   "source": [
    "## Data from 1999 - 2005"
   ]
  },
  {
   "cell_type": "code",
   "execution_count": 269,
   "id": "02779771-7870-4ca2-b019-cad04a06a99b",
   "metadata": {
    "tags": []
   },
   "outputs": [],
   "source": [
    "data_1999 = fetch_data('1999-09-01', '1999-11-30', 'temp', -83, 29, 46, 73, 0, 2000)\n",
    "data_2000 = fetch_data('2000-09-01', '2000-11-30', 'temp', -83, 29, 46, 73, 0, 2000)\n",
    "data_2001 = fetch_data('2001-09-01', '2001-11-30', 'temp', -83, 29, 46, 73, 0, 2000)\n",
    "data_2002 = fetch_data('2002-09-01', '2002-11-30', 'temp', -83, 29, 46, 73, 0, 2000)\n",
    "data_2003 = fetch_data('2003-09-01', '2003-11-30', 'temp', -83, 29, 46, 73, 0, 2000)\n",
    "data_2004 = fetch_data('2004-09-01', '2004-11-30', 'temp', -83, 29, 46, 73, 0, 2000)\n",
    "data_2005 = fetch_data('2005-09-01', '2005-11-30', 'temp', -83, 29, 46, 73, 0, 2000)"
   ]
  },
  {
   "cell_type": "code",
   "execution_count": 281,
   "id": "ad387052-0f98-489a-b737-94111cb733af",
   "metadata": {
    "tags": []
   },
   "outputs": [],
   "source": [
    "X_1999, y_1999 = clean_data(data_1999)\n",
    "X_2000, y_2000 = clean_data(data_2000)\n",
    "X_2001, y_2001 = clean_data(data_2001)\n",
    "X_2002, y_2002 = clean_data(data_2002)\n",
    "X_2003, y_2003 = clean_data(data_2003)\n",
    "X_2004, y_2004 = clean_data(data_2004)\n",
    "X_2005, y_2005 = clean_data(data_2005)"
   ]
  },
  {
   "cell_type": "code",
   "execution_count": 326,
   "id": "6c2903a1-3163-4fcf-b30f-340bce65f069",
   "metadata": {
    "tags": []
   },
   "outputs": [],
   "source": [
    "X_old = np.vstack([X_1999, X_2000, X_2001, X_2002, X_2003, X_2004, X_2005])\n",
    "y_old = np.hstack([y_1999, y_2000, y_2001, y_2002, y_2003, y_2004, y_2005])\n",
    "np.save('X_old.npy', X_old)\n",
    "np.save('y_old.npy', y_old)"
   ]
  },
  {
   "cell_type": "markdown",
   "id": "9cbf92e5-60fa-43e9-9fb2-5586276e4c5b",
   "metadata": {
    "tags": []
   },
   "source": [
    "## Data Visualization"
   ]
  },
  {
   "cell_type": "code",
   "execution_count": null,
   "id": "25aaa61a-4082-4f24-9d3c-20eba73ba9d8",
   "metadata": {
    "tags": []
   },
   "outputs": [],
   "source": [
    "X_curr = np.load('X_curr.npy')\n",
    "y_curr = np.load('y_curr.npy')"
   ]
  },
  {
   "cell_type": "code",
   "execution_count": null,
   "id": "d07e5557-6949-4d7a-8543-d7d458274cb2",
   "metadata": {
    "tags": []
   },
   "outputs": [],
   "source": [
    "fig = plt.figure(dpi=300)\n",
    "ax = fig.add_subplot(1, 1, 1, projection=ccrs.Robinson())\n",
    "\n",
    "ax.coastlines(resolution='auto', color='k')\n",
    "ax.gridlines(color='lightgrey', linestyle='-', draw_labels=True)\n",
    "ax.coastlines()\n",
    "ax.stock_img()\n",
    "\n",
    "ax.scatter(X_curr[:, 1], X_curr[:, 0], s = 1, c = y_curr, transform = ccrs.PlateCarree(), cmap = 'coolwarm')\n",
    "ax.set_extent([-60, -10, 46, 73], crs=ccrs.PlateCarree())\n",
    "plt.show()\n",
    "plt.colorbar()"
   ]
  },
  {
   "cell_type": "markdown",
   "id": "50ecaef9-a7d4-4bb1-9ace-36faf819ecec",
   "metadata": {
    "tags": [],
    "user_expressions": []
   },
   "source": [
    "## Model Fitting"
   ]
  },
  {
   "cell_type": "code",
   "execution_count": 90,
   "id": "fc03b1f7-f79b-44c7-914a-5b0cd363a9b4",
   "metadata": {
    "tags": []
   },
   "outputs": [],
   "source": [
    "X_curr = mercator(np.load('X_curr.npy'))\n",
    "y_curr = np.load('y_curr.npy')\n",
    "\n",
    "X_trn, X_tst, y_trn, y_tst = train_test_split(X_curr, y_curr, random_state = 666, test_size = 0.25)"
   ]
  },
  {
   "cell_type": "code",
   "execution_count": null,
   "id": "cd300073-3fb0-4c51-aadc-2e552a5a0097",
   "metadata": {
    "tags": []
   },
   "outputs": [],
   "source": [
    "%%time\n",
    "from sklearn.gaussian_process import GaussianProcessRegressor\n",
    "from sklearn.gaussian_process.kernels import RBF, WhiteKernel\n",
    "\n",
    "kernel = 1.0 * (RBF(length_scale = 1e2, length_scale_bounds = (1e1, 1e3)) + \n",
    "                WhiteKernel(noise_level_bounds=(1e-4, 10)))\n",
    "gpr = GaussianProcessRegressor(kernel = kernel, random_state = 0, normalize_y = True)\n",
    "gpr.fit(X_trn, y_trn) "
   ]
  },
  {
   "cell_type": "code",
   "execution_count": null,
   "id": "2b1ce360-8e19-4cf5-903e-5b2e52bbaacb",
   "metadata": {},
   "outputs": [],
   "source": [
    "gpr.kernel_"
   ]
  },
  {
   "cell_type": "code",
   "execution_count": null,
   "id": "0cbc7f77-44a4-4144-94a6-4decb6b19fe5",
   "metadata": {
    "tags": []
   },
   "outputs": [],
   "source": [
    "lat_span = np.linspace(46, 73, 101)\n",
    "lon_span = np.linspace(-60, 25, 101)\n",
    "\n",
    "lat, lon = np.meshgrid(lat_span, lon_span)\n",
    "pts = np.vstack([lat.ravel(), lon.ravel()]).T\n",
    "pts = pts[~globe.is_land(pts[:, 0], pts[:, 1])]"
   ]
  },
  {
   "cell_type": "code",
   "execution_count": 84,
   "id": "8933dc3f-c495-4e24-a11e-12980ec5b55f",
   "metadata": {
    "tags": []
   },
   "outputs": [],
   "source": []
  },
  {
   "cell_type": "code",
   "execution_count": 86,
   "id": "a2ced867-913b-4c4f-a933-0665f9e78796",
   "metadata": {
    "tags": []
   },
   "outputs": [],
   "source": [
    "y_pred = gpr.predict(pts)"
   ]
  },
  {
   "cell_type": "code",
   "execution_count": 89,
   "id": "1d13c410-36bf-4f3d-afb6-35b0686c2926",
   "metadata": {
    "tags": []
   },
   "outputs": [
    {
     "data": {
      "text/plain": [
       "<matplotlib.collections.PathCollection at 0x7feb1be2ca10>"
      ]
     },
     "execution_count": 89,
     "metadata": {},
     "output_type": "execute_result"
    },
    {
     "data": {
      "image/png": "[encoded data removed]",
      "text/plain": [
       "<Figure size 640x480 with 1 Axes>"
      ]
     },
     "metadata": {},
     "output_type": "display_data"
    }
   ],
   "source": [
    "plt.scatter(pts[:, 1], pts[:, 0], c = y_pred)"
   ]
  }
 ],
 "metadata": {
  "kernelspec": {
   "display_name": "argos",
   "language": "python",
   "name": "argos"
  },
  "language_info": {
   "codemirror_mode": {
    "name": "ipython",
    "version": 3
   },
   "file_extension": ".py",
   "mimetype": "text/x-python",
   "name": "python",
   "nbconvert_exporter": "python",
   "pygments_lexer": "ipython3",
   "version": "3.11.0"
  }
 },
 "nbformat": 4,
 "nbformat_minor": 5
}
